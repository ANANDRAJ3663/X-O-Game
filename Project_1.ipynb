{
  "nbformat": 4,
  "nbformat_minor": 0,
  "metadata": {
    "anaconda-cloud": {},
    "kernelspec": {
      "display_name": "Python 3",
      "language": "python",
      "name": "python3"
    },
    "language_info": {
      "codemirror_mode": {
        "name": "ipython",
        "version": 3
      },
      "file_extension": ".py",
      "mimetype": "text/x-python",
      "name": "python",
      "nbconvert_exporter": "python",
      "pygments_lexer": "ipython3",
      "version": "3.6.1"
    },
    "colab": {
      "name": "Project -1 .ipynb",
      "provenance": [],
      "collapsed_sections": []
    }
  },
  "cells": [
    {
      "cell_type": "markdown",
      "metadata": {
        "id": "r_VGoW_mgwve",
        "colab_type": "text"
      },
      "source": [
        "# Project 1"
      ]
    },
    {
      "cell_type": "markdown",
      "metadata": {
        "id": "ETyJXWu2gwvf",
        "colab_type": "text"
      },
      "source": [
        "**Step 1: Write a function that can print out a board. Set up your board as a list, where each index 1-9 corresponds with a number on a number pad, so you get a 3 by 3 board representation.**"
      ]
    },
    {
      "cell_type": "code",
      "metadata": {
        "id": "rMg-og6rgwvg",
        "colab_type": "code",
        "colab": {}
      },
      "source": [
        "from IPython.display import clear_output\n",
        "\n",
        "def display_board(board):\n",
        "    clear_output()  \n",
        "    # This code below creates board with 3 rows and 3 columns.\n",
        "    print('   |   |')\n",
        "    print(' ' + board[7] + ' | ' + board[8] + ' | ' + board[9])\n",
        "    print('   |   |')\n",
        "    print('-----------')\n",
        "    print('   |   |')\n",
        "    print(' ' + board[4] + ' | ' + board[5] + ' | ' + board[6])\n",
        "    print('   |   |')\n",
        "    print('-----------')\n",
        "    print('   |   |')\n",
        "    print(' ' + board[1] + ' | ' + board[2] + ' | ' + board[3])\n",
        "    print('   |   |')"
      ],
      "execution_count": 15,
      "outputs": []
    },
    {
      "cell_type": "markdown",
      "metadata": {
        "id": "_4VOwgXUgwvj",
        "colab_type": "text"
      },
      "source": [
        "**Step 1:**\n",
        "\n",
        "Run your function on a test version of the board list, and make adjustments as necessary"
      ]
    },
    {
      "cell_type": "code",
      "metadata": {
        "id": "q7fCHk2Ygwvk",
        "colab_type": "code",
        "colab": {
          "base_uri": "https://localhost:8080/",
          "height": 210
        },
        "outputId": "d0e7c9d6-048e-4284-c1c2-04f226ddaadf"
      },
      "source": [
        "test_board = ['#','X','O','X','O','X','O','X','O','X'] \n",
        "display_board(test_board) "
      ],
      "execution_count": 16,
      "outputs": [
        {
          "output_type": "stream",
          "text": [
            "   |   |\n",
            " X | O | X\n",
            "   |   |\n",
            "-----------\n",
            "   |   |\n",
            " O | X | O\n",
            "   |   |\n",
            "-----------\n",
            "   |   |\n",
            " X | O | X\n",
            "   |   |\n"
          ],
          "name": "stdout"
        }
      ]
    },
    {
      "cell_type": "markdown",
      "metadata": {
        "id": "j72jENxOgwvn",
        "colab_type": "text"
      },
      "source": [
        "**Step 2:** \n",
        "\n",
        "Write a function that can take in a player input and assign their marker as 'X' or 'O'. Use \"while\" loop to continually ask until you get a correct answer."
      ]
    },
    {
      "cell_type": "code",
      "metadata": {
        "id": "nsZzWloQgwvo",
        "colab_type": "code",
        "colab": {}
      },
      "source": [
        "def player_input():\n",
        "    marker = ''\n",
        "    \n",
        "    while not (marker == 'X' or marker == 'O'):\n",
        "        marker = input('Player 1: Do you want to be X or O? ').upper()\n",
        "\n",
        "    if marker == 'X':\n",
        "        return ('X', 'O')\n",
        "    else:\n",
        "        return ('O', 'X')"
      ],
      "execution_count": 17,
      "outputs": []
    },
    {
      "cell_type": "markdown",
      "metadata": {
        "id": "pRDCf0lXgwvq",
        "colab_type": "text"
      },
      "source": [
        "**Step 3:** \n",
        "\n",
        "Run the function to make sure it returns the desired output"
      ]
    },
    {
      "cell_type": "code",
      "metadata": {
        "id": "3HS87eLzgwvr",
        "colab_type": "code",
        "colab": {
          "base_uri": "https://localhost:8080/",
          "height": 52
        },
        "outputId": "4acfdcdb-54b8-4590-a8d3-0064988a1116"
      },
      "source": [
        "player_input()"
      ],
      "execution_count": 18,
      "outputs": [
        {
          "output_type": "stream",
          "text": [
            "Player 1: Do you want to be X or O? X\n"
          ],
          "name": "stdout"
        },
        {
          "output_type": "execute_result",
          "data": {
            "text/plain": [
              "('X', 'O')"
            ]
          },
          "metadata": {
            "tags": []
          },
          "execution_count": 18
        }
      ]
    },
    {
      "cell_type": "markdown",
      "metadata": {
        "id": "LFGQmfWEgwvu",
        "colab_type": "text"
      },
      "source": [
        "**Step 4:** \n",
        "\n",
        "Write a function that takes in the board list object, a marker ('X' or 'O'), and a desired position (number 1-9) and assigns it to the board."
      ]
    },
    {
      "cell_type": "code",
      "metadata": {
        "id": "StQX2ucbgwvu",
        "colab_type": "code",
        "colab": {}
      },
      "source": [
        "def player_marker(board, marker, position):\n",
        "    board[position] = marker"
      ],
      "execution_count": 19,
      "outputs": []
    },
    {
      "cell_type": "markdown",
      "metadata": {
        "id": "-3-lAV92gwvx",
        "colab_type": "text"
      },
      "source": [
        "**Step 5:** \n",
        "\n",
        "Run the place marker function using test parameters and display the modified board"
      ]
    },
    {
      "cell_type": "code",
      "metadata": {
        "id": "KbI_mDlcgwvx",
        "colab_type": "code",
        "colab": {
          "base_uri": "https://localhost:8080/",
          "height": 210
        },
        "outputId": "f4b86555-e751-445e-eeed-ee8c18e90500"
      },
      "source": [
        "player_marker(test_board,'$',8)\n",
        "display_board(test_board)"
      ],
      "execution_count": 20,
      "outputs": [
        {
          "output_type": "stream",
          "text": [
            "   |   |\n",
            " X | $ | X\n",
            "   |   |\n",
            "-----------\n",
            "   |   |\n",
            " O | X | O\n",
            "   |   |\n",
            "-----------\n",
            "   |   |\n",
            " X | O | X\n",
            "   |   |\n"
          ],
          "name": "stdout"
        }
      ]
    },
    {
      "cell_type": "markdown",
      "metadata": {
        "id": "9GVNxqnegwv0",
        "colab_type": "text"
      },
      "source": [
        "**Step 6:** \n",
        "\n",
        "Write a function that checks if someone has won. "
      ]
    },
    {
      "cell_type": "code",
      "metadata": {
        "id": "RPI7W3_Fgwv1",
        "colab_type": "code",
        "colab": {}
      },
      "source": [
        "def win_check(board,mark):\n",
        "    \n",
        "    return ((board[7] == mark and board[8] == mark and board[9] == mark) or # across the top\n",
        "    (board[4] == mark and board[5] == mark and board[6] == mark) or # across the middle\n",
        "    (board[1] == mark and board[2] == mark and board[3] == mark) or # across the bottom\n",
        "    (board[7] == mark and board[4] == mark and board[1] == mark) or # down the middle\n",
        "    (board[8] == mark and board[5] == mark and board[2] == mark) or # down the middle\n",
        "    (board[9] == mark and board[6] == mark and board[3] == mark) or # down the right side\n",
        "    (board[7] == mark and board[5] == mark and board[3] == mark) or # diagonal\n",
        "    (board[9] == mark and board[5] == mark and board[1] == mark)) # diagonal"
      ],
      "execution_count": 21,
      "outputs": []
    },
    {
      "cell_type": "markdown",
      "metadata": {
        "id": "9T7Ua0Rbgwv3",
        "colab_type": "text"
      },
      "source": [
        "**Step 7:** \n",
        "\n",
        "Run the win_check function against our test_board - it should return True"
      ]
    },
    {
      "cell_type": "code",
      "metadata": {
        "id": "nGBBewoZgwv4",
        "colab_type": "code",
        "colab": {
          "base_uri": "https://localhost:8080/",
          "height": 34
        },
        "outputId": "d2d1fe06-36d4-417e-cc40-a66ad3e0ed53"
      },
      "source": [
        "win_check(test_board,'X')"
      ],
      "execution_count": 22,
      "outputs": [
        {
          "output_type": "execute_result",
          "data": {
            "text/plain": [
              "True"
            ]
          },
          "metadata": {
            "tags": []
          },
          "execution_count": 22
        }
      ]
    },
    {
      "cell_type": "markdown",
      "metadata": {
        "id": "HFL9yKGvgwv6",
        "colab_type": "text"
      },
      "source": [
        "**Step 8:** \n",
        "\n",
        "Write a function that uses the random module to randomly decide which player goes first. You may want to lookup random.randint() Return a string of which player went first."
      ]
    },
    {
      "cell_type": "code",
      "metadata": {
        "id": "dFjJAUljgwv7",
        "colab_type": "code",
        "colab": {}
      },
      "source": [
        "import random\n",
        "\n",
        "def choose_first():\n",
        "    if random.randint(0, 1) == 0:\n",
        "        return 'Player 2'\n",
        "    else:\n",
        "        return 'Player 1'"
      ],
      "execution_count": 23,
      "outputs": []
    },
    {
      "cell_type": "markdown",
      "metadata": {
        "id": "TXPhNF7Qgwv9",
        "colab_type": "text"
      },
      "source": [
        "**Step 9:** \n",
        "\n",
        "Write a function that returns a boolean indicating if space on the board is freely available."
      ]
    },
    {
      "cell_type": "code",
      "metadata": {
        "id": "ESmbrw3qgwv9",
        "colab_type": "code",
        "colab": {}
      },
      "source": [
        "def space_check(board, position):\n",
        "    \n",
        "    return board[position] == ' '"
      ],
      "execution_count": 24,
      "outputs": []
    },
    {
      "cell_type": "markdown",
      "metadata": {
        "id": "GR0fxSyWgwwA",
        "colab_type": "text"
      },
      "source": [
        "**Step 10:** \n",
        "\n",
        "Write a function that checks if the board is full and returns a boolean value."
      ]
    },
    {
      "cell_type": "code",
      "metadata": {
        "id": "JwC3tUW-gwwA",
        "colab_type": "code",
        "colab": {}
      },
      "source": [
        "def full_board_check(board):\n",
        "    for i in range(1,10):\n",
        "        if space_check(board, i):\n",
        "            return False\n",
        "    return True"
      ],
      "execution_count": 25,
      "outputs": []
    },
    {
      "cell_type": "markdown",
      "metadata": {
        "id": "MtOGbQHigwwD",
        "colab_type": "text"
      },
      "source": [
        "**Step 11:** \n",
        "\n",
        "Write a function that asks for a player's next position (as a number 1-9) and then uses the function from step 8 to check if its a free position. If it is, then return the position for later use."
      ]
    },
    {
      "cell_type": "code",
      "metadata": {
        "id": "4hScIl7zgwwE",
        "colab_type": "code",
        "colab": {}
      },
      "source": [
        "def player_choice(board):\n",
        "    position = 0\n",
        "    \n",
        "    while position not in [1,2,3,4,5,6,7,8,9] or not space_check(board, position):\n",
        "        position = int(input('Choose your next position: (1-9) '))\n",
        "        \n",
        "    return position"
      ],
      "execution_count": 26,
      "outputs": []
    },
    {
      "cell_type": "markdown",
      "metadata": {
        "id": "yqjy-Mk0gwwI",
        "colab_type": "text"
      },
      "source": [
        "**Step 12:**\n",
        "\n",
        "Write a function that asks the player if they want to play again and returns a boolean True if they do want to play again."
      ]
    },
    {
      "cell_type": "code",
      "metadata": {
        "id": "I2EzFUUFgwwI",
        "colab_type": "code",
        "colab": {}
      },
      "source": [
        "def replay():\n",
        "    \n",
        "    return input('Do you want to play again? Enter Yes or No: ').lower().startswith('y')"
      ],
      "execution_count": 27,
      "outputs": []
    },
    {
      "cell_type": "markdown",
      "metadata": {
        "collapsed": true,
        "id": "-a2Ce7CHgwwK",
        "colab_type": "text"
      },
      "source": [
        "**Step 13:** \n",
        "\n",
        "Use while loops and the functions you've made to run the game!"
      ]
    },
    {
      "cell_type": "code",
      "metadata": {
        "id": "1vUY9TmjgwwL",
        "colab_type": "code",
        "colab": {
          "base_uri": "https://localhost:8080/",
          "height": 105
        },
        "outputId": "50b8ef5a-0dc1-4616-fdff-64b6624c67a9"
      },
      "source": [
        "  print('Welcome to Tic Tac Toe!')\n",
        "\n",
        "while True:\n",
        "    # Reset the board\n",
        "    theBoard = [' '] * 10\n",
        "    player1_marker, player2_marker = player_input()\n",
        "    turn = choose_first() # Select turn of the player\n",
        "    print(turn + ' will go first.')\n",
        "    \n",
        "    play_game = input('Are you ready to play? Enter Yes or No.') # Asking user permission to start the game.\n",
        "    \n",
        "    if play_game.lower()[0] == 'y':\n",
        "        game_on = True\n",
        "    else:\n",
        "        game_on = False\n",
        "\n",
        "    while game_on:\n",
        "        if turn == 'Player 1': # Player1's turn.\n",
        "            display_board(theBoard) # Displays an empty board\n",
        "            position = player_choice(theBoard) # Choice given to player for first move\n",
        "            place_marker(theBoard, player1_marker, position) # 'X' or 'O' placed in user desired location\n",
        "\n",
        "            if win_check(theBoard, player1_marker):\n",
        "                display_board(theBoard) # Shows the board with the inputs.\n",
        "                print('Congratulations! You have won the game!')\n",
        "                game_on = False\n",
        "            else: # Code for draw match.\n",
        "                if full_board_check(theBoard):\n",
        "                    display_board(theBoard)\n",
        "                    print('The game is a draw!')\n",
        "                    break\n",
        "                else:\n",
        "                    turn = 'Player 2'\n",
        "\n",
        "        else:\n",
        "            # Player2's turn.\n",
        "            \n",
        "            display_board(theBoard)\n",
        "            position = player_choice(theBoard)\n",
        "            place_marker(theBoard, player2_marker, position)\n",
        "\n",
        "            if win_check(theBoard, player2_marker):\n",
        "                display_board(theBoard)\n",
        "                print('Player 2 has won!')\n",
        "                game_on = False\n",
        "            else:\n",
        "                if full_board_check(theBoard):\n",
        "                    display_board(theBoard)\n",
        "                    print('The game is a draw!')\n",
        "                    break\n",
        "                else:\n",
        "                    turn = 'Player 1'\n",
        "\n",
        "    if not replay():\n",
        "        break"
      ],
      "execution_count": 29,
      "outputs": [
        {
          "output_type": "stream",
          "text": [
            "Welcome to Tic Tac Toe!\n",
            "Player 1: Do you want to be X or O? X\n",
            "Player 1 will go first.\n",
            "Are you ready to play? Enter Yes or No.No\n",
            "Do you want to play again? Enter Yes or No: No\n"
          ],
          "name": "stdout"
        }
      ]
    },
    {
      "cell_type": "markdown",
      "metadata": {
        "collapsed": true,
        "id": "oGlltWW8gwwN",
        "colab_type": "text"
      },
      "source": [
        "## Good Job!"
      ]
    }
  ]
}